{
  "nbformat": 4,
  "nbformat_minor": 0,
  "metadata": {
    "colab": {
      "provenance": [],
      "mount_file_id": "16g1iEjM9AA1-OOZR_4PohKDQ-ZC5UIq6",
      "authorship_tag": "ABX9TyMR2/7jZMWFXka4N96pc9xi",
      "include_colab_link": true
    },
    "kernelspec": {
      "name": "python3",
      "display_name": "Python 3"
    },
    "language_info": {
      "name": "python"
    }
  },
  "cells": [
    {
      "cell_type": "markdown",
      "metadata": {
        "id": "view-in-github",
        "colab_type": "text"
      },
      "source": [
        "<a href=\"https://colab.research.google.com/github/samiloaraujo/7DaysOfCode/blob/main/7DaysOfCode_Python_Pandas.ipynb\" target=\"_parent\"><img src=\"https://colab.research.google.com/assets/colab-badge.svg\" alt=\"Open In Colab\"/></a>"
      ]
    },
    {
      "cell_type": "markdown",
      "source": [
        "#Iremos explorar os dados de empréstimos dos acervos do sistema de bibliotecas da UFRN."
      ],
      "metadata": {
        "id": "dcyiPYzvkiZ9"
      }
    },
    {
      "cell_type": "markdown",
      "source": [
        "###Um dos objetivos de uma biblioteca é garantir que os materiais informacionais estejam sendo utilizados. Os empréstimos realizados podem ser um indicador, mesmo que de forma básica (pois você não consegue garantir que haja uma leitura ou utilização real). Por este motivo, entender a quantidade de empréstimos se torna importante.\n",
        "\n",
        "Questões de diferentes perspectivas podem surgir como:\n",
        "\n",
        "> A quantidade de empréstimos está aumentando ou diminuindo ao decorrer dos últimos anos?\n",
        "\n",
        "> Em quais bibliotecas do sistema estão a maior quantidade de empréstimos?\n",
        "\n",
        "\n",
        "> Quais são os temas mais emprestados? E os menos?"
      ],
      "metadata": {
        "id": "Ulc0oSAtkyEU"
      }
    },
    {
      "cell_type": "markdown",
      "source": [
        "#Vamos para a análise\n",
        "\n",
        "\n"
      ],
      "metadata": {
        "id": "SxTHiigCljMR"
      }
    },
    {
      "cell_type": "markdown",
      "source": [
        "Dia 1"
      ],
      "metadata": {
        "id": "CTHNov8rnZqU"
      }
    },
    {
      "cell_type": "code",
      "source": [
        "# importando a biblioteca pandas\n",
        "import pandas as pd"
      ],
      "metadata": {
        "id": "Gj8XtN6zmw6w"
      },
      "execution_count": 1,
      "outputs": []
    },
    {
      "cell_type": "code",
      "source": [
        "# lendo os arquivos csv do github e guardando em variáveis\n",
        "emprestimos_20101 = pd.read_csv(\"https://raw.githubusercontent.com/FranciscoFoz/7_Days_of_Code_Alura-Python-Pandas/main/Dia_1-Importando_dados/Datasets/dados_emprestimos/emprestimos-20101.csv\")\n",
        "emprestimos_20102 = pd.read_csv(\"https://raw.githubusercontent.com/FranciscoFoz/7_Days_of_Code_Alura-Python-Pandas/main/Dia_1-Importando_dados/Datasets/dados_emprestimos/emprestimos-20102.csv\")\n",
        "emprestimos_20111 = pd.read_csv(\"https://raw.githubusercontent.com/FranciscoFoz/7_Days_of_Code_Alura-Python-Pandas/main/Dia_1-Importando_dados/Datasets/dados_emprestimos/emprestimos-20111.csv\")\n",
        "emprestimos_20112 = pd.read_csv(\"https://raw.githubusercontent.com/FranciscoFoz/7_Days_of_Code_Alura-Python-Pandas/main/Dia_1-Importando_dados/Datasets/dados_emprestimos/emprestimos-20112.csv\")\n",
        "emprestimos_20121 = pd.read_csv(\"https://raw.githubusercontent.com/FranciscoFoz/7_Days_of_Code_Alura-Python-Pandas/main/Dia_1-Importando_dados/Datasets/dados_emprestimos/emprestimos-20121.csv\")\n",
        "emprestimos_20122 = pd.read_csv(\"https://raw.githubusercontent.com/FranciscoFoz/7_Days_of_Code_Alura-Python-Pandas/main/Dia_1-Importando_dados/Datasets/dados_emprestimos/emprestimos-20122.csv\")\n",
        "emprestimos_20131 = pd.read_csv(\"https://raw.githubusercontent.com/FranciscoFoz/7_Days_of_Code_Alura-Python-Pandas/main/Dia_1-Importando_dados/Datasets/dados_emprestimos/emprestimos-20131.csv\")\n",
        "emprestimos_20132 = pd.read_csv(\"https://raw.githubusercontent.com/FranciscoFoz/7_Days_of_Code_Alura-Python-Pandas/main/Dia_1-Importando_dados/Datasets/dados_emprestimos/emprestimos-20132.csv\")\n",
        "emprestimos_20141 = pd.read_csv(\"https://raw.githubusercontent.com/FranciscoFoz/7_Days_of_Code_Alura-Python-Pandas/main/Dia_1-Importando_dados/Datasets/dados_emprestimos/emprestimos-20141.csv\")\n",
        "emprestimos_20142 = pd.read_csv(\"https://raw.githubusercontent.com/FranciscoFoz/7_Days_of_Code_Alura-Python-Pandas/main/Dia_1-Importando_dados/Datasets/dados_emprestimos/emprestimos-20142.csv\")\n",
        "emprestimos_20151 = pd.read_csv(\"https://raw.githubusercontent.com/FranciscoFoz/7_Days_of_Code_Alura-Python-Pandas/main/Dia_1-Importando_dados/Datasets/dados_emprestimos/emprestimos-20151.csv\")\n",
        "emprestimos_20152 = pd.read_csv(\"https://raw.githubusercontent.com/FranciscoFoz/7_Days_of_Code_Alura-Python-Pandas/main/Dia_1-Importando_dados/Datasets/dados_emprestimos/emprestimos-20152.csv\")\n",
        "emprestimos_20161 = pd.read_csv(\"https://raw.githubusercontent.com/FranciscoFoz/7_Days_of_Code_Alura-Python-Pandas/main/Dia_1-Importando_dados/Datasets/dados_emprestimos/emprestimos-20161.csv\")\n",
        "emprestimos_20162 = pd.read_csv(\"https://raw.githubusercontent.com/FranciscoFoz/7_Days_of_Code_Alura-Python-Pandas/main/Dia_1-Importando_dados/Datasets/dados_emprestimos/emprestimos-20162.csv\")\n",
        "emprestimos_20171 = pd.read_csv(\"https://raw.githubusercontent.com/FranciscoFoz/7_Days_of_Code_Alura-Python-Pandas/main/Dia_1-Importando_dados/Datasets/dados_emprestimos/emprestimos-20171.csv\")\n",
        "emprestimos_20172 = pd.read_csv(\"https://raw.githubusercontent.com/FranciscoFoz/7_Days_of_Code_Alura-Python-Pandas/main/Dia_1-Importando_dados/Datasets/dados_emprestimos/emprestimos-20172.csv\")\n",
        "emprestimos_20181 = pd.read_csv(\"https://raw.githubusercontent.com/FranciscoFoz/7_Days_of_Code_Alura-Python-Pandas/main/Dia_1-Importando_dados/Datasets/dados_emprestimos/emprestimos-20181.csv\")\n",
        "emprestimos_20182 = pd.read_csv(\"https://raw.githubusercontent.com/FranciscoFoz/7_Days_of_Code_Alura-Python-Pandas/main/Dia_1-Importando_dados/Datasets/dados_emprestimos/emprestimos-20182.csv\")\n",
        "emprestimos_20191 = pd.read_csv(\"https://raw.githubusercontent.com/FranciscoFoz/7_Days_of_Code_Alura-Python-Pandas/main/Dia_1-Importando_dados/Datasets/dados_emprestimos/emprestimos-20191.csv\")\n",
        "emprestimos_20192 = pd.read_csv(\"https://raw.githubusercontent.com/FranciscoFoz/7_Days_of_Code_Alura-Python-Pandas/main/Dia_1-Importando_dados/Datasets/dados_emprestimos/emprestimos-20192.csv\")\n",
        "emprestimos_20201 = pd.read_csv(\"https://raw.githubusercontent.com/FranciscoFoz/7_Days_of_Code_Alura-Python-Pandas/main/Dia_1-Importando_dados/Datasets/dados_emprestimos/emprestimos-20201.csv\")"
      ],
      "metadata": {
        "id": "N8Mcohngo1St"
      },
      "execution_count": 9,
      "outputs": []
    },
    {
      "cell_type": "code",
      "source": [
        "# unificando em um único Dataframe todos os dados pertinentes para a análise\n",
        "df_emprestimos = pd.concat([emprestimos_20101, emprestimos_20102, emprestimos_20111, emprestimos_20112, emprestimos_20121, emprestimos_20122, emprestimos_20131, emprestimos_20132, emprestimos_20141, emprestimos_20142, emprestimos_20151,\n",
        "                            emprestimos_20152, emprestimos_20161, emprestimos_20162, emprestimos_20171, emprestimos_20172, emprestimos_20181, emprestimos_20182, emprestimos_20191, emprestimos_20192, emprestimos_20201])\n",
        "df_emprestimos.head()"
      ],
      "metadata": {
        "colab": {
          "base_uri": "https://localhost:8080/",
          "height": 206
        },
        "id": "NRWXJ66jx4Tj",
        "outputId": "409f0d46-8c30-4525-e01a-4dd30f559f10"
      },
      "execution_count": 11,
      "outputs": [
        {
          "output_type": "execute_result",
          "data": {
            "text/plain": [
              "   id_emprestimo codigo_barras                 data_renovacao  \\\n",
              "0         709684       L095049                            NaN   \n",
              "1         709685       L167050                            NaN   \n",
              "2         709686    2006017618  2010/01/26 08:07:01.738000000   \n",
              "3         709687       L184117  2010/01/18 11:07:46.470000000   \n",
              "4         709684       L095049                            NaN   \n",
              "\n",
              "                 data_emprestimo                 data_devolucao  \\\n",
              "0  2010/01/04 07:44:10.721000000  2010/01/05 16:26:12.662000000   \n",
              "1  2010/01/04 07:44:10.750000000  2010/01/12 07:34:13.934000000   \n",
              "2  2010/01/04 08:08:44.081000000  2010/02/25 07:36:25.800000000   \n",
              "3  2010/01/04 08:24:21.284000000  2010/02/03 08:58:45.692000000   \n",
              "4  2010/01/04 07:44:10.721000000  2010/01/05 16:26:12.662000000   \n",
              "\n",
              "   matricula_ou_siape    tipo_vinculo_usuario  \n",
              "0        2.008023e+09      ALUNO DE GRADUAÇÃO  \n",
              "1        2.008023e+09      ALUNO DE GRADUAÇÃO  \n",
              "2        2.008112e+09  ALUNO DE PÓS-GRADUAÇÃO  \n",
              "3        2.007211e+08      ALUNO DE GRADUAÇÃO  \n",
              "4        2.008023e+09      ALUNO DE GRADUAÇÃO  "
            ],
            "text/html": [
              "\n",
              "  <div id=\"df-498683c8-aeeb-4090-9aaf-fe389c19d155\" class=\"colab-df-container\">\n",
              "    <div>\n",
              "<style scoped>\n",
              "    .dataframe tbody tr th:only-of-type {\n",
              "        vertical-align: middle;\n",
              "    }\n",
              "\n",
              "    .dataframe tbody tr th {\n",
              "        vertical-align: top;\n",
              "    }\n",
              "\n",
              "    .dataframe thead th {\n",
              "        text-align: right;\n",
              "    }\n",
              "</style>\n",
              "<table border=\"1\" class=\"dataframe\">\n",
              "  <thead>\n",
              "    <tr style=\"text-align: right;\">\n",
              "      <th></th>\n",
              "      <th>id_emprestimo</th>\n",
              "      <th>codigo_barras</th>\n",
              "      <th>data_renovacao</th>\n",
              "      <th>data_emprestimo</th>\n",
              "      <th>data_devolucao</th>\n",
              "      <th>matricula_ou_siape</th>\n",
              "      <th>tipo_vinculo_usuario</th>\n",
              "    </tr>\n",
              "  </thead>\n",
              "  <tbody>\n",
              "    <tr>\n",
              "      <th>0</th>\n",
              "      <td>709684</td>\n",
              "      <td>L095049</td>\n",
              "      <td>NaN</td>\n",
              "      <td>2010/01/04 07:44:10.721000000</td>\n",
              "      <td>2010/01/05 16:26:12.662000000</td>\n",
              "      <td>2.008023e+09</td>\n",
              "      <td>ALUNO DE GRADUAÇÃO</td>\n",
              "    </tr>\n",
              "    <tr>\n",
              "      <th>1</th>\n",
              "      <td>709685</td>\n",
              "      <td>L167050</td>\n",
              "      <td>NaN</td>\n",
              "      <td>2010/01/04 07:44:10.750000000</td>\n",
              "      <td>2010/01/12 07:34:13.934000000</td>\n",
              "      <td>2.008023e+09</td>\n",
              "      <td>ALUNO DE GRADUAÇÃO</td>\n",
              "    </tr>\n",
              "    <tr>\n",
              "      <th>2</th>\n",
              "      <td>709686</td>\n",
              "      <td>2006017618</td>\n",
              "      <td>2010/01/26 08:07:01.738000000</td>\n",
              "      <td>2010/01/04 08:08:44.081000000</td>\n",
              "      <td>2010/02/25 07:36:25.800000000</td>\n",
              "      <td>2.008112e+09</td>\n",
              "      <td>ALUNO DE PÓS-GRADUAÇÃO</td>\n",
              "    </tr>\n",
              "    <tr>\n",
              "      <th>3</th>\n",
              "      <td>709687</td>\n",
              "      <td>L184117</td>\n",
              "      <td>2010/01/18 11:07:46.470000000</td>\n",
              "      <td>2010/01/04 08:24:21.284000000</td>\n",
              "      <td>2010/02/03 08:58:45.692000000</td>\n",
              "      <td>2.007211e+08</td>\n",
              "      <td>ALUNO DE GRADUAÇÃO</td>\n",
              "    </tr>\n",
              "    <tr>\n",
              "      <th>4</th>\n",
              "      <td>709684</td>\n",
              "      <td>L095049</td>\n",
              "      <td>NaN</td>\n",
              "      <td>2010/01/04 07:44:10.721000000</td>\n",
              "      <td>2010/01/05 16:26:12.662000000</td>\n",
              "      <td>2.008023e+09</td>\n",
              "      <td>ALUNO DE GRADUAÇÃO</td>\n",
              "    </tr>\n",
              "  </tbody>\n",
              "</table>\n",
              "</div>\n",
              "    <div class=\"colab-df-buttons\">\n",
              "\n",
              "  <div class=\"colab-df-container\">\n",
              "    <button class=\"colab-df-convert\" onclick=\"convertToInteractive('df-498683c8-aeeb-4090-9aaf-fe389c19d155')\"\n",
              "            title=\"Convert this dataframe to an interactive table.\"\n",
              "            style=\"display:none;\">\n",
              "\n",
              "  <svg xmlns=\"http://www.w3.org/2000/svg\" height=\"24px\" viewBox=\"0 -960 960 960\">\n",
              "    <path d=\"M120-120v-720h720v720H120Zm60-500h600v-160H180v160Zm220 220h160v-160H400v160Zm0 220h160v-160H400v160ZM180-400h160v-160H180v160Zm440 0h160v-160H620v160ZM180-180h160v-160H180v160Zm440 0h160v-160H620v160Z\"/>\n",
              "  </svg>\n",
              "    </button>\n",
              "\n",
              "  <style>\n",
              "    .colab-df-container {\n",
              "      display:flex;\n",
              "      gap: 12px;\n",
              "    }\n",
              "\n",
              "    .colab-df-convert {\n",
              "      background-color: #E8F0FE;\n",
              "      border: none;\n",
              "      border-radius: 50%;\n",
              "      cursor: pointer;\n",
              "      display: none;\n",
              "      fill: #1967D2;\n",
              "      height: 32px;\n",
              "      padding: 0 0 0 0;\n",
              "      width: 32px;\n",
              "    }\n",
              "\n",
              "    .colab-df-convert:hover {\n",
              "      background-color: #E2EBFA;\n",
              "      box-shadow: 0px 1px 2px rgba(60, 64, 67, 0.3), 0px 1px 3px 1px rgba(60, 64, 67, 0.15);\n",
              "      fill: #174EA6;\n",
              "    }\n",
              "\n",
              "    .colab-df-buttons div {\n",
              "      margin-bottom: 4px;\n",
              "    }\n",
              "\n",
              "    [theme=dark] .colab-df-convert {\n",
              "      background-color: #3B4455;\n",
              "      fill: #D2E3FC;\n",
              "    }\n",
              "\n",
              "    [theme=dark] .colab-df-convert:hover {\n",
              "      background-color: #434B5C;\n",
              "      box-shadow: 0px 1px 3px 1px rgba(0, 0, 0, 0.15);\n",
              "      filter: drop-shadow(0px 1px 2px rgba(0, 0, 0, 0.3));\n",
              "      fill: #FFFFFF;\n",
              "    }\n",
              "  </style>\n",
              "\n",
              "    <script>\n",
              "      const buttonEl =\n",
              "        document.querySelector('#df-498683c8-aeeb-4090-9aaf-fe389c19d155 button.colab-df-convert');\n",
              "      buttonEl.style.display =\n",
              "        google.colab.kernel.accessAllowed ? 'block' : 'none';\n",
              "\n",
              "      async function convertToInteractive(key) {\n",
              "        const element = document.querySelector('#df-498683c8-aeeb-4090-9aaf-fe389c19d155');\n",
              "        const dataTable =\n",
              "          await google.colab.kernel.invokeFunction('convertToInteractive',\n",
              "                                                    [key], {});\n",
              "        if (!dataTable) return;\n",
              "\n",
              "        const docLinkHtml = 'Like what you see? Visit the ' +\n",
              "          '<a target=\"_blank\" href=https://colab.research.google.com/notebooks/data_table.ipynb>data table notebook</a>'\n",
              "          + ' to learn more about interactive tables.';\n",
              "        element.innerHTML = '';\n",
              "        dataTable['output_type'] = 'display_data';\n",
              "        await google.colab.output.renderOutput(dataTable, element);\n",
              "        const docLink = document.createElement('div');\n",
              "        docLink.innerHTML = docLinkHtml;\n",
              "        element.appendChild(docLink);\n",
              "      }\n",
              "    </script>\n",
              "  </div>\n",
              "\n",
              "\n",
              "<div id=\"df-e9242a20-c4b2-48b4-a7dc-cebc4cf9f0e5\">\n",
              "  <button class=\"colab-df-quickchart\" onclick=\"quickchart('df-e9242a20-c4b2-48b4-a7dc-cebc4cf9f0e5')\"\n",
              "            title=\"Suggest charts\"\n",
              "            style=\"display:none;\">\n",
              "\n",
              "<svg xmlns=\"http://www.w3.org/2000/svg\" height=\"24px\"viewBox=\"0 0 24 24\"\n",
              "     width=\"24px\">\n",
              "    <g>\n",
              "        <path d=\"M19 3H5c-1.1 0-2 .9-2 2v14c0 1.1.9 2 2 2h14c1.1 0 2-.9 2-2V5c0-1.1-.9-2-2-2zM9 17H7v-7h2v7zm4 0h-2V7h2v10zm4 0h-2v-4h2v4z\"/>\n",
              "    </g>\n",
              "</svg>\n",
              "  </button>\n",
              "\n",
              "<style>\n",
              "  .colab-df-quickchart {\n",
              "      --bg-color: #E8F0FE;\n",
              "      --fill-color: #1967D2;\n",
              "      --hover-bg-color: #E2EBFA;\n",
              "      --hover-fill-color: #174EA6;\n",
              "      --disabled-fill-color: #AAA;\n",
              "      --disabled-bg-color: #DDD;\n",
              "  }\n",
              "\n",
              "  [theme=dark] .colab-df-quickchart {\n",
              "      --bg-color: #3B4455;\n",
              "      --fill-color: #D2E3FC;\n",
              "      --hover-bg-color: #434B5C;\n",
              "      --hover-fill-color: #FFFFFF;\n",
              "      --disabled-bg-color: #3B4455;\n",
              "      --disabled-fill-color: #666;\n",
              "  }\n",
              "\n",
              "  .colab-df-quickchart {\n",
              "    background-color: var(--bg-color);\n",
              "    border: none;\n",
              "    border-radius: 50%;\n",
              "    cursor: pointer;\n",
              "    display: none;\n",
              "    fill: var(--fill-color);\n",
              "    height: 32px;\n",
              "    padding: 0;\n",
              "    width: 32px;\n",
              "  }\n",
              "\n",
              "  .colab-df-quickchart:hover {\n",
              "    background-color: var(--hover-bg-color);\n",
              "    box-shadow: 0 1px 2px rgba(60, 64, 67, 0.3), 0 1px 3px 1px rgba(60, 64, 67, 0.15);\n",
              "    fill: var(--button-hover-fill-color);\n",
              "  }\n",
              "\n",
              "  .colab-df-quickchart-complete:disabled,\n",
              "  .colab-df-quickchart-complete:disabled:hover {\n",
              "    background-color: var(--disabled-bg-color);\n",
              "    fill: var(--disabled-fill-color);\n",
              "    box-shadow: none;\n",
              "  }\n",
              "\n",
              "  .colab-df-spinner {\n",
              "    border: 2px solid var(--fill-color);\n",
              "    border-color: transparent;\n",
              "    border-bottom-color: var(--fill-color);\n",
              "    animation:\n",
              "      spin 1s steps(1) infinite;\n",
              "  }\n",
              "\n",
              "  @keyframes spin {\n",
              "    0% {\n",
              "      border-color: transparent;\n",
              "      border-bottom-color: var(--fill-color);\n",
              "      border-left-color: var(--fill-color);\n",
              "    }\n",
              "    20% {\n",
              "      border-color: transparent;\n",
              "      border-left-color: var(--fill-color);\n",
              "      border-top-color: var(--fill-color);\n",
              "    }\n",
              "    30% {\n",
              "      border-color: transparent;\n",
              "      border-left-color: var(--fill-color);\n",
              "      border-top-color: var(--fill-color);\n",
              "      border-right-color: var(--fill-color);\n",
              "    }\n",
              "    40% {\n",
              "      border-color: transparent;\n",
              "      border-right-color: var(--fill-color);\n",
              "      border-top-color: var(--fill-color);\n",
              "    }\n",
              "    60% {\n",
              "      border-color: transparent;\n",
              "      border-right-color: var(--fill-color);\n",
              "    }\n",
              "    80% {\n",
              "      border-color: transparent;\n",
              "      border-right-color: var(--fill-color);\n",
              "      border-bottom-color: var(--fill-color);\n",
              "    }\n",
              "    90% {\n",
              "      border-color: transparent;\n",
              "      border-bottom-color: var(--fill-color);\n",
              "    }\n",
              "  }\n",
              "</style>\n",
              "\n",
              "  <script>\n",
              "    async function quickchart(key) {\n",
              "      const quickchartButtonEl =\n",
              "        document.querySelector('#' + key + ' button');\n",
              "      quickchartButtonEl.disabled = true;  // To prevent multiple clicks.\n",
              "      quickchartButtonEl.classList.add('colab-df-spinner');\n",
              "      try {\n",
              "        const charts = await google.colab.kernel.invokeFunction(\n",
              "            'suggestCharts', [key], {});\n",
              "      } catch (error) {\n",
              "        console.error('Error during call to suggestCharts:', error);\n",
              "      }\n",
              "      quickchartButtonEl.classList.remove('colab-df-spinner');\n",
              "      quickchartButtonEl.classList.add('colab-df-quickchart-complete');\n",
              "    }\n",
              "    (() => {\n",
              "      let quickchartButtonEl =\n",
              "        document.querySelector('#df-e9242a20-c4b2-48b4-a7dc-cebc4cf9f0e5 button');\n",
              "      quickchartButtonEl.style.display =\n",
              "        google.colab.kernel.accessAllowed ? 'block' : 'none';\n",
              "    })();\n",
              "  </script>\n",
              "</div>\n",
              "\n",
              "    </div>\n",
              "  </div>\n"
            ],
            "application/vnd.google.colaboratory.intrinsic+json": {
              "type": "dataframe",
              "variable_name": "df_emprestimos"
            }
          },
          "metadata": {},
          "execution_count": 11
        }
      ]
    },
    {
      "cell_type": "code",
      "source": [
        "# verificando quantidades de linhas e colunas\n",
        "df_emprestimos.shape"
      ],
      "metadata": {
        "colab": {
          "base_uri": "https://localhost:8080/"
        },
        "id": "pTlNPZyFy2NS",
        "outputId": "0689d737-25dd-47b8-abf0-80fb2c93d0b8"
      },
      "execution_count": 12,
      "outputs": [
        {
          "output_type": "execute_result",
          "data": {
            "text/plain": [
              "(2258018, 7)"
            ]
          },
          "metadata": {},
          "execution_count": 12
        }
      ]
    },
    {
      "cell_type": "code",
      "source": [
        "# verificando a existência de dados nulos\n",
        "df_emprestimos.isnull().sum()"
      ],
      "metadata": {
        "colab": {
          "base_uri": "https://localhost:8080/"
        },
        "id": "XVg5v0OjzJdU",
        "outputId": "cddf2216-fee4-4a90-d97c-1eeea91968dc"
      },
      "execution_count": 13,
      "outputs": [
        {
          "output_type": "execute_result",
          "data": {
            "text/plain": [
              "id_emprestimo                 0\n",
              "codigo_barras                 0\n",
              "data_renovacao          1285720\n",
              "data_emprestimo               0\n",
              "data_devolucao             6471\n",
              "matricula_ou_siape         3170\n",
              "tipo_vinculo_usuario          0\n",
              "dtype: int64"
            ]
          },
          "metadata": {},
          "execution_count": 13
        }
      ]
    }
  ]
}